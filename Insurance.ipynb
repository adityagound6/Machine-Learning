{
 "cells": [
  {
   "cell_type": "code",
   "execution_count": 5,
   "metadata": {},
   "outputs": [],
   "source": [
    "import pandas as pd\n",
    "from sklearn.linear_model import LinearRegression \n",
    "import matplotlib.pyplot as plt \n",
    "import numpy as np\n",
    "import math\n",
    "from sklearn.preprocessing import LabelEncoder\n",
    "from sklearn.preprocessing import OneHotEncoder\n",
    "import matplotlib.pyplot as plt\n",
    "from sklearn.model_selection import train_test_split\n",
    "from sklearn.linear_model import LogisticRegression\n",
    "model=LogisticRegression()"
   ]
  },
  {
   "cell_type": "code",
   "execution_count": 7,
   "metadata": {},
   "outputs": [
    {
     "data": {
      "image/png": "[encoded data removed]",
      "text/plain": [
       "<Figure size 432x288 with 1 Axes>"
      ]
     },
     "metadata": {
      "needs_background": "light"
     },
     "output_type": "display_data"
    },
    {
     "name": "stdout",
     "output_type": "stream",
     "text": [
      "Prediction on Test value [1 0]\n",
      "Prediction On age 50 [1]\n",
      "Accuracy of model is 0.0\n",
      "Probabilty [[0.19773506 0.80226494]\n",
      " [0.98503412 0.01496588]]\n"
     ]
    }
   ],
   "source": [
    "df=pd.DataFrame({'age':[22,25,47,52,46,56,55,60,62,61,18,28,27,29,49],'have_insu':[0,0,1,0,1,1,0,1,1,1,0,0,0,0,1]})\n",
    "df.to_csv('have_insurace.csv')\n",
    "insu=pd.read_csv('have_insurace.csv')\n",
    "ins=insu.drop(['Unnamed: 0'],axis='columns')\n",
    "plt.scatter(ins['age'],ins['have_insu'])\n",
    "plt.show()\n",
    "x=ins[['age']]\n",
    "y=ins['have_insu']\n",
    "x_train, x_test, y_train, y_test=train_test_split(x,y,test_size=0.1)\n",
    "model.fit(x_train,y_train)\n",
    "print(\"Prediction on Test value\",model.predict(x_test))\n",
    "print(\"Prediction On age 50\",model.predict([[50]]))\n",
    "print(\"Accuracy of model is\",model.score(x_test,x_test))\n",
    "print(\"Probabilty\",model.predict_proba(x_test))"
   ]
  },
  {
   "cell_type": "code",
   "execution_count": null,
   "metadata": {},
   "outputs": [],
   "source": []
  }
 ],
 "metadata": {
  "kernelspec": {
   "display_name": "Python 3",
   "language": "python",
   "name": "python3"
  },
  "language_info": {
   "codemirror_mode": {
    "name": "ipython",
    "version": 3
   },
   "file_extension": ".py",
   "mimetype": "text/x-python",
   "name": "python",
   "nbconvert_exporter": "python",
   "pygments_lexer": "ipython3",
   "version": "3.8.2"
  }
 },
 "nbformat": 4,
 "nbformat_minor": 4
}
